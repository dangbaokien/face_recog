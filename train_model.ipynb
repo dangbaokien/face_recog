{
 "cells": [
  {
   "cell_type": "code",
   "execution_count": null,
   "metadata": {},
   "outputs": [],
   "source": [
    "import torch\n",
    "from insightface.model_zoo import get_model\n",
    "from torch import nn\n",
    "from torch.utils.data import DataLoader\n",
    "from insightface.data import get_dataset\n",
    "from insightface.utils import L2Norm\n"
   ]
  },
  {
   "cell_type": "code",
   "execution_count": null,
   "metadata": {},
   "outputs": [],
   "source": [
    "import torch\n",
    "import torch.nn.functional as F\n",
    "\n",
    "class ArcFaceLoss(nn.Module):\n",
    "    def __init__(self, s=64.0, m=0.50, easy_margin=False):\n",
    "        super(ArcFaceLoss, self).__init__()\n",
    "        self.s = s\n",
    "        self.m = m\n",
    "        self.easy_margin = easy_margin\n",
    "\n",
    "    def forward(self, embedding, label):\n",
    "        cos_theta = F.linear(F.normalize(embedding), F.normalize(self.weight))  # Cosine similarity\n",
    "        cos_theta = cos_theta.clamp(-1.0, 1.0)  # Clamping to prevent overflow\n",
    "        theta = torch.acos(cos_theta)  # Inverse cosine to get angle\n",
    "        target_logit = torch.cos(theta + self.m)  # Adding margin\n",
    "        \n",
    "        if self.easy_margin:\n",
    "            target_logit = cos_theta + self.m\n",
    "        \n",
    "        # One-hot encoding labels\n",
    "        one_hot = torch.zeros(cos_theta.size(0), cos_theta.size(1), device=cos_theta.device)\n",
    "        one_hot.scatter_(1, label.view(-1, 1), 1)\n",
    "        \n",
    "        # Loss computation\n",
    "        loss = F.cross_entropy(target_logit * self.s, one_hot)\n",
    "        return loss\n"
   ]
  },
  {
   "cell_type": "code",
   "execution_count": null,
   "metadata": {},
   "outputs": [],
   "source": [
    "# Tải mô hình ArcFace đã huấn luyện sẵn\n",
    "model = get_model('arcface_r100_v1')\n",
    "model.to(device)\n",
    "\n",
    "# Tải bộ dữ liệu của bạn (có nhãn rõ ràng)\n",
    "train_dataset = get_dataset(\"your_dataset_path\")\n",
    "train_loader = DataLoader(train_dataset, batch_size=32, shuffle=True)\n",
    "\n",
    "# Định nghĩa ArcFace Loss\n",
    "arcface_loss = ArcFaceLoss()\n",
    "\n",
    "# Định nghĩa Optimizer\n",
    "optimizer = torch.optim.Adam(model.parameters(), lr=0.0001)\n",
    "\n",
    "# Fine-tuning trên bộ dữ liệu\n",
    "for epoch in range(10):  # Số epoch có thể thay đổi\n",
    "    model.train()\n",
    "    for i, (images, labels) in enumerate(train_loader):\n",
    "        images = images.to(device)\n",
    "        labels = labels.to(device)\n",
    "        \n",
    "        # Tiến hành fine-tuning\n",
    "        optimizer.zero_grad()\n",
    "        embeddings = model(images)  # Trích xuất nhúng từ mô hình\n",
    "        loss = arcface_loss(embeddings, labels)  # Tính loss ArcFace\n",
    "        loss.backward()\n",
    "        optimizer.step()\n",
    "        \n",
    "        if i % 10 == 0:\n",
    "            print(f\"Epoch [{epoch+1}/10], Step [{i+1}/{len(train_loader)}], Loss: {loss.item():.4f}\")\n"
   ]
  }
 ],
 "metadata": {
  "kernelspec": {
   "display_name": "face",
   "language": "python",
   "name": "python3"
  },
  "language_info": {
   "name": "python",
   "version": "3.8.5"
  }
 },
 "nbformat": 4,
 "nbformat_minor": 2
}
